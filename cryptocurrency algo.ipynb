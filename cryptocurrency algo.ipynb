{
 "cells": [
  {
   "cell_type": "code",
   "execution_count": 1,
   "id": "335eda88",
   "metadata": {},
   "outputs": [],
   "source": [
    "import json\n",
    "import requests\n",
    "import numpy as np\n",
    "import pandas as pd\n",
    "import matplotlib.pyplot as plt\n",
    "from sklearn.metrics import mean_absolute_error, mean_squared_error, r2_score\n",
    "from keras.models import Sequential\n",
    "from keras.layers import Activation, Dense, Dropout, LSTM\n",
    "import jdc        # jupyter dynamic classes\n"
   ]
  },
  {
   "cell_type": "code",
   "execution_count": 2,
   "id": "e5973b0f",
   "metadata": {},
   "outputs": [],
   "source": [
    "\n",
    "class CryptoPricePrediction:\n",
    "    # Cryptocurrency and fiat currency its price is measured against.\n",
    "    crypto_currency = 'BTC'\n",
    "    fiat_currency = 'USD'\n",
    "    \n",
    "    def __init__(self, coin=crypto_currency, currency=fiat_currency, window_len=5, test_size=0.2, zero_base=True, \n",
    "                 lstm_neurons=100, epochs=50, batch_size=32, dropout=0.2, loss='mse', optimizer='adam'):\n",
    "\n",
    "        self.df = pd.DataFrame()\n",
    "\n",
    "        self.coin = coin\n",
    "        self.currency = currency\n",
    "        self.window_len = window_len\n",
    "        self.test_size = test_size\n",
    "        self.zero_base = zero_base\n",
    "        self.lstm_neurons = lstm_neurons\n",
    "        self.epochs = epochs\n",
    "        self.batch_size = batch_size\n",
    "        self.dropout = dropout\n",
    "        self.loss = loss\n",
    "        self.optimizer = optimizer\n",
    "\n",
    "        self.endpoint = 'https://min-api.cryptocompare.com/data/histoday'\n",
    "\n",
    "        self.hist = self._get_historical_data()\n",
    "        self.hist.drop([\"conversionType\", \"conversionSymbol\"], axis='columns', inplace=True)\n",
    "\n",
    "        self.train, self.test, self.X_train, self.X_test, self.y_train, self.y_test = self._prepare_data()\n",
    "        self.model = self._build_lstm_model(self.X_train, output_size=1)\n",
    "\n",
    "        "
   ]
  },
  {
   "cell_type": "code",
   "execution_count": 3,
   "id": "0921d0ef",
   "metadata": {},
   "outputs": [],
   "source": [
    " \n",
    "    %%add_to CryptoPricePrediction\n",
    "    def _prepare_data(self):\n",
    "        # Create windowed dataset\n",
    "        window_data = []\n",
    "        for idx in range(len(self.hist) - self.window_len):\n",
    "            window_data.append(self.hist[idx: idx + self.window_len])\n",
    "\n",
    "        window_data = np.array(window_data)\n",
    "\n",
    "        # Normalize target variable (price)\n",
    "        target_data = self.normalize_target_variable(self.hist['close'], self.hist['close'].values)\n",
    "\n",
    "        # Train-test split\n",
    "        split_idx = int(self.test_size * window_data.shape[0])\n",
    "        X_train, X_test = window_data[:-split_idx], window_data[-split_idx:]\n",
    "        y_train, y_test = target_data[:-split_idx], target_data[-split_idx:]\n",
    "\n",
    "        train = self.hist.iloc[:len(self.hist)-split_idx]\n",
    "        test = self.hist.iloc[len(self.hist)-split_idx:]\n",
    "\n",
    "        return train, test, X_train, X_test, y_train, y_test\n",
    "\n"
   ]
  },
  {
   "cell_type": "code",
   "execution_count": 4,
   "id": "bb0e67f7",
   "metadata": {},
   "outputs": [],
   "source": [
    "  \n",
    "    %%add_to CryptoPricePrediction\n",
    "\n",
    "    def _get_historical_data(self):\n",
    "        res = requests.get(f'{self.endpoint}?fsym={self.coin}&tsym={self.currency}&limit=500')\n",
    "        hist = pd.DataFrame(json.loads(res.content)['Data'])\n",
    "        hist = hist.set_index('time')\n",
    "        hist.index = pd.to_datetime(hist.index, unit='s')\n",
    "        return hist\n",
    "    "
   ]
  },
  {
   "cell_type": "code",
   "execution_count": 5,
   "id": "b4ed38db",
   "metadata": {},
   "outputs": [],
   "source": [
    "\n",
    "    %%add_to CryptoPricePrediction\n",
    "    def _train_test_split(self, df):\n",
    "        split_row = len(df) - int(self.test_size * len(df))\n",
    "        train_data = df.iloc[:split_row]\n",
    "        test_data = df.iloc[split_row:]\n",
    "        return train_data, test_data\n",
    "    "
   ]
  },
  {
   "cell_type": "code",
   "execution_count": 6,
   "id": "c31d197f",
   "metadata": {},
   "outputs": [],
   "source": [
    "\n",
    "    %%add_to CryptoPricePrediction\n",
    "    def to_zero_base_normalization(self, df):\n",
    "        \"\"\"\n",
    "        The to_zero_base_normalization method takes a pandas\n",
    "        DataFrame as input and returns a normalized version \n",
    "        of that DataFrame where each value is scaled to a base of 0,\n",
    "        which means that the first value in each column\n",
    "        is subtracted from all other values in the same column.\n",
    "        \"\"\"\n",
    "        # Validate input parameter\n",
    "        if not isinstance(df, pd.DataFrame) or df.empty:\n",
    "            raise ValueError('df must be a non-empty pandas DataFrame')\n",
    "        \n",
    "        return df.div(df.iloc[0]).sub(1)\n",
    "    "
   ]
  },
  {
   "cell_type": "code",
   "execution_count": 7,
   "id": "89ae407d",
   "metadata": {},
   "outputs": [],
   "source": [
    "\n",
    "    %%add_to CryptoPricePrediction\n",
    "    def _normalise_min_max(self, df):\n",
    "        \"\"\"\n",
    "        The to_min_max_normalization function takes \n",
    "        a pandas DataFrame as input and returns a normalized \n",
    "        version of that DataFrame where each value is scaled\n",
    "        to a range between 0 and 1 based on the minimum \n",
    "        and maximum values of the input DataFrame.\n",
    "        \"\"\"\n",
    "        # Validate input parameter\n",
    "        if not isinstance(df, pd.DataFrame) or df.empty:\n",
    "            raise ValueError('df must be a non-empty pandas DataFrame')\n",
    "\n",
    "        return (df - df.min()) / (df.max() - df.min())\n",
    "    "
   ]
  },
  {
   "cell_type": "code",
   "execution_count": 8,
   "id": "2a1a0a42",
   "metadata": {},
   "outputs": [],
   "source": [
    "\n",
    "    %%add_to CryptoPricePrediction\n",
    "    def extract_window_data(self, data):\n",
    "        \"\"\"\n",
    "        The extract_window_data method takes a DataFrame \n",
    "        and generates rolling windows of a specified length \n",
    "        from it, and optionally normalizes the data to have a zero base.\n",
    "        \"\"\"\n",
    "        # Validate input parameters\n",
    "        if not isinstance(data, pd.DataFrame) or data.empty:\n",
    "            raise ValueError('data must be a non-empty pandas DataFrame')\n",
    "\n",
    "        window_data = []\n",
    "        for idx in range(len(data) - self.window_len):\n",
    "            tmp = data.iloc[idx: (idx + self.window_len)].copy()\n",
    "            if self.zero_base:\n",
    "                tmp = tmp / tmp.iloc[0] - 1\n",
    "            window_data.append(tmp.values)\n",
    "\n",
    "        return np.array(window_data)\n"
   ]
  },
  {
   "cell_type": "code",
   "execution_count": 9,
   "id": "939f18e4",
   "metadata": {},
   "outputs": [],
   "source": [
    "\n",
    "    %%add_to CryptoPricePrediction\n",
    "    def extract_target_variable(self, train_data, test_data, col):\n",
    "        train_target = train_data[col][self.window_len:].values\n",
    "        test_target = test_data[col][self.window_len:].values\n",
    "        return train_target, test_target\n",
    "    "
   ]
  },
  {
   "cell_type": "code",
   "execution_count": 10,
   "id": "58da45cd",
   "metadata": {},
   "outputs": [],
   "source": [
    "\n",
    "    %%add_to CryptoPricePrediction\n",
    "    def normalize_target_variable(self, target_var, prev_val):\n",
    "        # Zero-centered normalization\n",
    "        norm_target = target_var[self.window_len:] / prev_val[:-self.window_len] - 1\n",
    "        return norm_target\n",
    "\n",
    "    "
   ]
  },
  {
   "cell_type": "code",
   "execution_count": 11,
   "id": "edfdbbc7",
   "metadata": {},
   "outputs": [],
   "source": [
    "\n",
    "    %%add_to CryptoPricePrediction\n",
    "    def _build_lstm_model(self, input_data, output_size, neurons=None, activ_func='linear', dropout=None, loss=None, optimizer=None):\n",
    "        model = Sequential()\n",
    "        model.add(LSTM(self.lstm_neurons if neurons is None else neurons, input_shape=(input_data.shape[1], input_data.shape[2])))\n",
    "        model.add(Dropout(self.dropout if dropout is None else dropout))\n",
    "        model.add(Dense(units=output_size))\n",
    "        model.add(Activation(activ_func))\n",
    "\n",
    "        model.compile(loss=self.loss if loss is None else loss, optimizer=self.optimizer if optimizer is None else optimizer)\n",
    "        return model\n",
    "\n"
   ]
  },
  {
   "cell_type": "code",
   "execution_count": 12,
   "id": "86f4622c",
   "metadata": {},
   "outputs": [],
   "source": [
    "\n",
    "    %%add_to CryptoPricePrediction\n",
    "    def prepare_and_train(self):\n",
    "        train, test, X_train, X_test, y_train, y_test = self._prepare_data()\n",
    "\n",
    "        model = self._build_lstm_model(\n",
    "            X_train, output_size=1, neurons=self.lstm_neurons, dropout=self.dropout, loss=self.loss,\n",
    "            optimizer=self.optimizer)\n",
    "\n",
    "        history = model.fit(\n",
    "            X_train, y_train, validation_data=(X_test, y_test), epochs=self.epochs, batch_size=self.batch_size, verbose=1, shuffle=True)\n",
    "\n",
    "        return train, test, model, history\n",
    "\n",
    "\n",
    "    "
   ]
  },
  {
   "cell_type": "raw",
   "id": "3c8f1e9a",
   "metadata": {},
   "source": [
    " \n",
    "    %%add_to CryptoPricePrediction\n",
    "    def plot_loss(self, history):\n",
    "        plt.plot(history.history['loss'], 'r', linewidth=2, label='Train loss')\n",
    "        plt.plot(history.history['val_loss'], 'g', linewidth=2, label='Validation loss')\n",
    "        plt.title('LSTM')\n",
    "        plt.xlabel('Epochs')\n",
    "        plt.ylabel('MSE')\n",
    "        plt.legend()\n",
    "        plt.show()\n",
    "\n",
    "\n"
   ]
  },
  {
   "cell_type": "code",
   "execution_count": 13,
   "id": "8acce72a",
   "metadata": {},
   "outputs": [],
   "source": [
    " \n",
    "    %%add_to CryptoPricePrediction\n",
    "    def plot_loss(self, history):\n",
    "        # Get loss history\n",
    "        loss = history.history['loss']\n",
    "        val_loss = history.history['val_loss']\n",
    "\n",
    "        # Plot loss history\n",
    "        plt.plot(loss)\n",
    "        plt.plot(val_loss)\n",
    "        plt.title('Model Loss')\n",
    "        plt.ylabel('Loss')\n",
    "        plt.xlabel('Epoch')\n",
    "        plt.legend(['Train', 'Validation'], loc='upper right')\n",
    "        plt.show()"
   ]
  },
  {
   "cell_type": "markdown",
   "id": "050b32dd",
   "metadata": {},
   "source": [
    "#### Evaluate the model"
   ]
  },
  {
   "cell_type": "code",
   "execution_count": 14,
   "id": "66c9c7f0",
   "metadata": {},
   "outputs": [],
   "source": [
    "    \n",
    "    %%add_to CryptoPricePrediction    \n",
    "    def evaluate_model(self, X_test, y_test, targets, target_col='close', window_len=None):\n",
    "        window_len = self.window_len if window_len is None else window_len\n",
    "\n",
    "        preds = self.model.predict(X_test).squeeze()\n",
    "        mae = mean_absolute_error(preds, y_test)\n",
    "        mse = mean_squared_error(preds, y_test)\n",
    "        r2 = r2_score(y_test, preds)\n",
    "        print(f'MAE: {mae:.4f}, MSE: {mse:.4f}, R2 score: {r2:.4f}')\n",
    "\n",
    "        preds = targets[target_col].values[:-window_len] * (preds + 1)\n",
    "        preds = pd.Series(index=targets.index, data=preds)\n",
    "        self.line_plot(targets, preds, 'actual', 'prediction', lw=3)\n",
    "\n"
   ]
  },
  {
   "cell_type": "code",
   "execution_count": 16,
   "id": "89de569e",
   "metadata": {},
   "outputs": [
    {
     "name": "stdout",
     "output_type": "stream",
     "text": [
      "Epoch 1/20\n",
      "13/13 [==============================] - 2s 35ms/step - loss: 0.4217 - val_loss: 0.1884\n",
      "Epoch 2/20\n",
      "13/13 [==============================] - 0s 7ms/step - loss: 0.1991 - val_loss: 0.0327\n",
      "Epoch 3/20\n",
      "13/13 [==============================] - 0s 6ms/step - loss: 0.1413 - val_loss: 0.0058\n",
      "Epoch 4/20\n",
      "13/13 [==============================] - 0s 6ms/step - loss: 0.1189 - val_loss: 0.0059\n",
      "Epoch 5/20\n",
      "13/13 [==============================] - 0s 6ms/step - loss: 0.1157 - val_loss: 0.0088\n",
      "Epoch 6/20\n",
      "13/13 [==============================] - 0s 7ms/step - loss: 0.1323 - val_loss: 0.0101\n",
      "Epoch 7/20\n",
      "13/13 [==============================] - 0s 6ms/step - loss: 0.1157 - val_loss: 0.0080\n",
      "Epoch 8/20\n",
      "13/13 [==============================] - 0s 7ms/step - loss: 0.1159 - val_loss: 0.0069\n",
      "Epoch 9/20\n",
      "13/13 [==============================] - 0s 6ms/step - loss: 0.1008 - val_loss: 0.0084\n",
      "Epoch 10/20\n",
      "13/13 [==============================] - 0s 6ms/step - loss: 0.1024 - val_loss: 0.0118\n",
      "Epoch 11/20\n",
      "13/13 [==============================] - 0s 6ms/step - loss: 0.0992 - val_loss: 0.0101\n",
      "Epoch 12/20\n",
      "13/13 [==============================] - 0s 6ms/step - loss: 0.1000 - val_loss: 0.0096\n",
      "Epoch 13/20\n",
      "13/13 [==============================] - 0s 6ms/step - loss: 0.0897 - val_loss: 0.0076\n",
      "Epoch 14/20\n",
      "13/13 [==============================] - 0s 6ms/step - loss: 0.0850 - val_loss: 0.0115\n",
      "Epoch 15/20\n",
      "13/13 [==============================] - 0s 6ms/step - loss: 0.0920 - val_loss: 0.0103\n",
      "Epoch 16/20\n",
      "13/13 [==============================] - 0s 6ms/step - loss: 0.0885 - val_loss: 0.0081\n",
      "Epoch 17/20\n",
      "13/13 [==============================] - 0s 6ms/step - loss: 0.0847 - val_loss: 0.0056\n",
      "Epoch 18/20\n",
      "13/13 [==============================] - 0s 6ms/step - loss: 0.0845 - val_loss: 0.0061\n",
      "Epoch 19/20\n",
      "13/13 [==============================] - 0s 6ms/step - loss: 0.0688 - val_loss: 0.0082\n",
      "Epoch 20/20\n",
      "13/13 [==============================] - 0s 6ms/step - loss: 0.0749 - val_loss: 0.0072\n"
     ]
    },
    {
     "data": {
      "image/png": "[encoded data removed]",
      "text/plain": [
       "<Figure size 640x480 with 1 Axes>"
      ]
     },
     "metadata": {},
     "output_type": "display_data"
    }
   ],
   "source": [
    "instance = CryptoPricePrediction()\n",
    "train, test, model, history = instance.prepare_and_train()\n",
    "instance.plot_loss(history)"
   ]
  },
  {
   "cell_type": "raw",
   "id": "23e341ef",
   "metadata": {},
   "source": [
    "instance = CryptoPricePrediction()\n",
    "train, test, model, history = instance.prepare_and_train()\n",
    "X_test = instance.X_test\n",
    "y_test = instance.y_test\n",
    "targets = instance.hist\n",
    "instance.evaluate_model(X_test, y_test, targets)\n"
   ]
  },
  {
   "cell_type": "code",
   "execution_count": null,
   "id": "93fed056",
   "metadata": {},
   "outputs": [],
   "source": []
  },
  {
   "cell_type": "code",
   "execution_count": null,
   "id": "4536e2bc",
   "metadata": {},
   "outputs": [],
   "source": []
  },
  {
   "cell_type": "code",
   "execution_count": null,
   "id": "6a46bd05",
   "metadata": {},
   "outputs": [],
   "source": []
  }
 ],
 "metadata": {
  "kernelspec": {
   "display_name": "Python 3 (ipykernel)",
   "language": "python",
   "name": "python3"
  },
  "language_info": {
   "codemirror_mode": {
    "name": "ipython",
    "version": 3
   },
   "file_extension": ".py",
   "mimetype": "text/x-python",
   "name": "python",
   "nbconvert_exporter": "python",
   "pygments_lexer": "ipython3",
   "version": "3.9.13"
  }
 },
 "nbformat": 4,
 "nbformat_minor": 5
}
