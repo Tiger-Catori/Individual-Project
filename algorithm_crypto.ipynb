{
 "cells": [
  {
   "cell_type": "code",
   "execution_count": 1,
   "id": "335eda88",
   "metadata": {},
   "outputs": [],
   "source": [
    "import json\n",
    "import requests\n",
    "import numpy as np\n",
    "import pandas as pd\n",
    "import matplotlib.pyplot as plt\n",
    "from sklearn.metrics import mean_absolute_error, mean_squared_error, r2_score\n",
    "from keras.models import Sequential\n",
    "from keras.layers import Activation, Dense, Dropout, LSTM\n",
    "import datetime\n",
    "import jdc        # jupyter dynamic classes\n"
   ]
  },
  {
   "cell_type": "code",
   "execution_count": 2,
   "id": "e5973b0f",
   "metadata": {},
   "outputs": [],
   "source": [
    "\n",
    "class CryptoPricePrediction:\n",
    "    # Cryptocurrency and fiat currency its price is measured against.\n",
    "    crypto_currency = 'BTC'\n",
    "    fiat_currency = 'USD'\n",
    "    \n",
    "    def __init__(self, coin=crypto_currency, currency=fiat_currency, window_len=5, test_size=0.2, zero_base=True, \n",
    "                 lstm_neurons=100, epochs=50, batch_size=32, dropout=0.2, loss='mse', optimizer='adam'):\n",
    "\n",
    "        self.df = pd.DataFrame()\n",
    "\n",
    "        self.coin = coin\n",
    "        self.currency = currency\n",
    "        self.window_len = window_len\n",
    "        self.test_size = test_size\n",
    "        self.zero_base = zero_base\n",
    "        self.lstm_neurons = lstm_neurons\n",
    "        self.epochs = epochs\n",
    "        self.batch_size = batch_size\n",
    "        self.dropout = dropout\n",
    "        self.loss = loss\n",
    "        self.optimizer = optimizer\n",
    "\n",
    "        self.endpoint = 'https://min-api.cryptocompare.com/data/histoday'\n",
    "\n",
    "        self.hist = self._get_historical_data()\n",
    "        self.hist.drop([\"conversionType\", \"conversionSymbol\"], axis='columns', inplace=True)\n",
    "\n",
    "        self.train, self.test, self.X_train, self.X_test, self.y_train, self.y_test = self._prepare_data()\n",
    "        self.model = self._build_lstm_model(self.X_train, output_size=1)\n",
    "\n",
    "        self.targets = self.test['close'][self.window_len:]"
   ]
  },
  {
   "cell_type": "code",
   "execution_count": 3,
   "id": "0921d0ef",
   "metadata": {},
   "outputs": [],
   "source": [
    " \n",
    "    %%add_to CryptoPricePrediction\n",
    "    def _prepare_data(self):\n",
    "        # Create windowed dataset\n",
    "        window_data = []\n",
    "        for idx in range(len(self.hist) - self.window_len):\n",
    "            window_data.append(self.hist[idx: idx + self.window_len])\n",
    "\n",
    "        window_data = np.array(window_data)\n",
    "\n",
    "        # Normalize target variable (price)\n",
    "        target_data = self.normalize_target_variable(self.hist['close'], self.hist['close'].values)\n",
    "\n",
    "        # Train-test split\n",
    "        split_idx = int(self.test_size * window_data.shape[0])\n",
    "        X_train, X_test = window_data[:-split_idx], window_data[-split_idx:]\n",
    "        y_train, y_test = target_data[:-split_idx], target_data[-split_idx:]\n",
    "\n",
    "        train = self.hist.iloc[:len(self.hist)-split_idx]\n",
    "        test = self.hist.iloc[len(self.hist)-split_idx:]\n",
    "\n",
    "        return train, test, X_train, X_test, y_train, y_test\n",
    "\n"
   ]
  },
  {
   "cell_type": "code",
   "execution_count": 4,
   "id": "bb0e67f7",
   "metadata": {},
   "outputs": [],
   "source": [
    "  \n",
    "    %%add_to CryptoPricePrediction\n",
    "\n",
    "    def _get_historical_data(self):\n",
    "        res = requests.get(f'{self.endpoint}?fsym={self.coin}&tsym={self.currency}&limit=500')\n",
    "        hist = pd.DataFrame(json.loads(res.content)['Data'])\n",
    "        hist = hist.set_index('time')\n",
    "        hist.index = pd.to_datetime(hist.index, unit='s')\n",
    "        \n",
    "        # Filter the data to keep only the last year's records\n",
    "        one_year_ago = datetime.datetime.now() - datetime.timedelta(days=365)\n",
    "        hist = hist[hist.index >= one_year_ago]\n",
    "        \n",
    "        return hist\n",
    "    "
   ]
  },
  {
   "cell_type": "code",
   "execution_count": 5,
   "id": "b4ed38db",
   "metadata": {},
   "outputs": [],
   "source": [
    "\n",
    "    %%add_to CryptoPricePrediction\n",
    "    def _train_test_split(self, df):\n",
    "        split_row = len(df) - int(self.test_size * len(df))\n",
    "        train_data = df.iloc[:split_row]\n",
    "        test_data = df.iloc[split_row:]\n",
    "        return train_data, test_data\n",
    "    "
   ]
  },
  {
   "cell_type": "code",
   "execution_count": 6,
   "id": "c31d197f",
   "metadata": {},
   "outputs": [],
   "source": [
    "\n",
    "    %%add_to CryptoPricePrediction\n",
    "    def to_zero_base_normalization(self, df):\n",
    "        \"\"\"\n",
    "        The to_zero_base_normalization method takes a pandas\n",
    "        DataFrame as input and returns a normalized version \n",
    "        of that DataFrame where each value is scaled to a base of 0,\n",
    "        which means that the first value in each column\n",
    "        is subtracted from all other values in the same column.\n",
    "        \"\"\"\n",
    "        # Validate input parameter\n",
    "        if not isinstance(df, pd.DataFrame) or df.empty:\n",
    "            raise ValueError('df must be a non-empty pandas DataFrame')\n",
    "        \n",
    "        return df.div(df.iloc[0]).sub(1)\n",
    "    "
   ]
  },
  {
   "cell_type": "code",
   "execution_count": 7,
   "id": "89ae407d",
   "metadata": {},
   "outputs": [],
   "source": [
    "\n",
    "    %%add_to CryptoPricePrediction\n",
    "    def _normalise_min_max(self, df):\n",
    "        \"\"\"\n",
    "        The to_min_max_normalization function takes \n",
    "        a pandas DataFrame as input and returns a normalized \n",
    "        version of that DataFrame where each value is scaled\n",
    "        to a range between 0 and 1 based on the minimum \n",
    "        and maximum values of the input DataFrame.\n",
    "        \"\"\"\n",
    "        # Validate input parameter\n",
    "        if not isinstance(df, pd.DataFrame) or df.empty:\n",
    "            raise ValueError('df must be a non-empty pandas DataFrame')\n",
    "\n",
    "        return (df - df.min()) / (df.max() - df.min())\n",
    "    "
   ]
  },
  {
   "cell_type": "code",
   "execution_count": 8,
   "id": "2a1a0a42",
   "metadata": {},
   "outputs": [],
   "source": [
    "\n",
    "    %%add_to CryptoPricePrediction\n",
    "    def extract_window_data(self, data):\n",
    "        \"\"\"\n",
    "        The extract_window_data method takes a DataFrame \n",
    "        and generates rolling windows of a specified length \n",
    "        from it, and optionally normalizes the data to have a zero base.\n",
    "        \"\"\"\n",
    "        # Validate input parameters\n",
    "        if not isinstance(data, pd.DataFrame) or data.empty:\n",
    "            raise ValueError('data must be a non-empty pandas DataFrame')\n",
    "\n",
    "        window_data = []\n",
    "        for idx in range(len(data) - self.window_len):\n",
    "            tmp = data.iloc[idx: (idx + self.window_len)].copy()\n",
    "            if self.zero_base:\n",
    "                tmp = tmp / tmp.iloc[0] - 1\n",
    "            window_data.append(tmp.values)\n",
    "\n",
    "        return np.array(window_data)\n"
   ]
  },
  {
   "cell_type": "code",
   "execution_count": 9,
   "id": "939f18e4",
   "metadata": {},
   "outputs": [],
   "source": [
    "\n",
    "    %%add_to CryptoPricePrediction\n",
    "    def extract_target_variable(self, train_data, test_data, col):\n",
    "        train_target = train_data[col][self.window_len:].values\n",
    "        test_target = test_data[col][self.window_len:].values\n",
    "        return train_target, test_target\n",
    "    "
   ]
  },
  {
   "cell_type": "code",
   "execution_count": 10,
   "id": "58da45cd",
   "metadata": {},
   "outputs": [],
   "source": [
    "\n",
    "    %%add_to CryptoPricePrediction\n",
    "    def normalize_target_variable(self, target_var, prev_val):\n",
    "        # Zero-centered normalization\n",
    "        norm_target = target_var[self.window_len:] / prev_val[:-self.window_len] - 1\n",
    "        return norm_target\n",
    "\n",
    "    "
   ]
  },
  {
   "cell_type": "code",
   "execution_count": 11,
   "id": "edfdbbc7",
   "metadata": {},
   "outputs": [],
   "source": [
    "\n",
    "    %%add_to CryptoPricePrediction\n",
    "    def _build_lstm_model(self, input_data, output_size, neurons=None, activ_func='linear', dropout=None, loss=None, optimizer=None):\n",
    "        model = Sequential()\n",
    "        model.add(LSTM(self.lstm_neurons if neurons is None else neurons, input_shape=(input_data.shape[1], input_data.shape[2])))\n",
    "        model.add(Dropout(self.dropout if dropout is None else dropout))\n",
    "        model.add(Dense(units=output_size))\n",
    "        model.add(Activation(activ_func))\n",
    "\n",
    "        model.compile(loss=self.loss if loss is None else loss, optimizer=self.optimizer if optimizer is None else optimizer)\n",
    "        return model\n",
    "\n"
   ]
  },
  {
   "cell_type": "code",
   "execution_count": 12,
   "id": "86f4622c",
   "metadata": {},
   "outputs": [],
   "source": [
    "\n",
    "    %%add_to CryptoPricePrediction\n",
    "    def prepare_and_train(self):\n",
    "        train, test, X_train, X_test, y_train, y_test = self._prepare_data()\n",
    "\n",
    "        model = self._build_lstm_model(\n",
    "            X_train, output_size=1, neurons=self.lstm_neurons, dropout=self.dropout, loss=self.loss,\n",
    "            optimizer=self.optimizer)\n",
    "\n",
    "        history = model.fit(\n",
    "            X_train, y_train, validation_data=(X_test, y_test), epochs=self.epochs, batch_size=self.batch_size, verbose=1, shuffle=True)\n",
    "\n",
    "        return train, test, model, history\n",
    "\n",
    "\n",
    "    "
   ]
  },
  {
   "cell_type": "code",
   "execution_count": 13,
   "id": "f3b7dc9b",
   "metadata": {},
   "outputs": [],
   "source": [
    " \n",
    "    %%add_to CryptoPricePrediction\n",
    "    def plot_loss(self, history):\n",
    "        # Get loss history\n",
    "        loss = history.history['loss']\n",
    "        val_loss = history.history['val_loss']\n",
    "\n",
    "        # Plot loss history\n",
    "        plt.plot(loss)\n",
    "        plt.plot(val_loss)\n",
    "        plt.title('Model Loss')\n",
    "        plt.ylabel('Loss')\n",
    "        plt.xlabel('Epoch')\n",
    "        plt.legend(['Train', 'Validation'], loc='upper right')\n",
    "        plt.show()"
   ]
  },
  {
   "cell_type": "markdown",
   "id": "050b32dd",
   "metadata": {},
   "source": [
    "#### Evaluate the model"
   ]
  },
  {
   "cell_type": "raw",
   "id": "a933e1ae",
   "metadata": {},
   "source": [
    "    \n",
    "    %%add_to CryptoPricePrediction    \n",
    "    def evaluate_model(self, X_test, y_test, targets, target_col='close', window_len=None):\n",
    "        window_len = self.window_len if window_len is None else window_len\n",
    "\n",
    "        preds = self.model.predict(X_test).squeeze()\n",
    "        mae = mean_absolute_error(preds, y_test)\n",
    "        mse = mean_squared_error(preds, y_test)\n",
    "        r2 = r2_score(y_test, preds)\n",
    "        print(f'MAE: {mae:.4f}, MSE: {mse:.4f}, R2 score: {r2:.4f}')\n",
    "\n",
    "        preds = targets[target_col].values[:-window_len] * (preds + 1)\n",
    "        preds = pd.Series(index=targets.index, data=preds)\n",
    "        self.line_plot(targets, preds, 'actual', 'prediction', lw=3)\n",
    "\n"
   ]
  },
  {
   "cell_type": "code",
   "execution_count": 14,
   "id": "df7b7ab1",
   "metadata": {},
   "outputs": [],
   "source": [
    "    %%add_to CryptoPricePrediction \n",
    "    def evaluate_model(self, X_test, y_test, targets, target_col='close', window_len=None):\n",
    "        window_len = self.window_len if window_len is None else window_len\n",
    "\n",
    "        preds = self.model.predict(X_test).squeeze()\n",
    "        mae = mean_absolute_error(preds, y_test)\n",
    "        mse = mean_squared_error(preds, y_test)\n",
    "        r2 = r2_score(y_test, preds)\n",
    "        print(f'MAE: {mae:.4f}, MSE: {mse:.4f}, R2 score: {r2:.4f}')\n",
    "\n",
    "        preds = targets.values[-len(preds):] * (preds + 1)  # Use the correct length for targets\n",
    "        preds = pd.Series(index=targets.index[-len(preds):], data=preds)\n",
    "\n",
    "        return preds\n",
    "\n",
    "\n"
   ]
  },
  {
   "cell_type": "code",
   "execution_count": 15,
   "id": "4e339a9e",
   "metadata": {},
   "outputs": [],
   "source": [
    "    %%add_to CryptoPricePrediction \n",
    "    def line_plot(self, target_col, title=''):\n",
    "        plt.plot(self.train[target_col], label='training', linewidth=2)\n",
    "        plt.plot(self.test[target_col], label='test', linewidth=2)\n",
    "        plt.title(title)\n",
    "        plt.xlabel('Date')\n",
    "        plt.ylabel('Price')\n",
    "        plt.legend()\n",
    "        plt.show()"
   ]
  },
  {
   "cell_type": "raw",
   "id": "2989ee82",
   "metadata": {},
   "source": [
    "    %%add_to CryptoPricePrediction \n",
    "    def plot_predictions(self, target_col='close', window_len=None, lw=3):\n",
    "        window_len = self.window_len if window_len is None else window_len\n",
    "        \n",
    "        preds = self.test[target_col].values[:-window_len] * (self.preds + 1)\n",
    "        preds = pd.Series(index=self.targets.index, data=preds)\n",
    "        \n",
    "        plt.figure(figsize=(12, 6))\n",
    "        plt.plot(self.targets, label='actual')\n",
    "        plt.plot(preds, label='prediction', lw=lw)\n",
    "        plt.title(f'{self.coin}/{self.currency} Price Prediction')\n",
    "        plt.xlabel('Date')\n",
    "        plt.ylabel('Price')\n",
    "        plt.legend()\n",
    "        plt.show()"
   ]
  },
  {
   "cell_type": "code",
   "execution_count": 16,
   "id": "c691ea84",
   "metadata": {},
   "outputs": [],
   "source": [
    "    %%add_to CryptoPricePrediction\n",
    "    def plot_predictions(self, preds, target_col='close', window_len=None, lw=3):\n",
    "        window_len = self.window_len if window_len is None else window_len\n",
    "        targets = self.test[target_col][window_len:]\n",
    "        self.line_plot(targets, preds, 'actual', 'prediction', lw=lw)\n"
   ]
  },
  {
   "cell_type": "markdown",
   "id": "a32d73bb",
   "metadata": {},
   "source": [
    "### Training and testing the model"
   ]
  },
  {
   "cell_type": "code",
   "execution_count": 17,
   "id": "3c39b880",
   "metadata": {},
   "outputs": [
    {
     "name": "stdout",
     "output_type": "stream",
     "text": [
      "Epoch 1/50\n",
      "9/9 [==============================] - 2s 56ms/step - loss: 0.1179 - val_loss: 0.0116\n",
      "Epoch 2/50\n",
      "9/9 [==============================] - 0s 7ms/step - loss: 0.0840 - val_loss: 0.0118\n",
      "Epoch 3/50\n",
      "9/9 [==============================] - 0s 7ms/step - loss: 0.0718 - val_loss: 0.0224\n",
      "Epoch 4/50\n",
      "9/9 [==============================] - 0s 7ms/step - loss: 0.0756 - val_loss: 0.0140\n",
      "Epoch 5/50\n",
      "9/9 [==============================] - 0s 7ms/step - loss: 0.0669 - val_loss: 0.0092\n",
      "Epoch 6/50\n",
      "9/9 [==============================] - 0s 7ms/step - loss: 0.0723 - val_loss: 0.0079\n",
      "Epoch 7/50\n",
      "9/9 [==============================] - 0s 7ms/step - loss: 0.0772 - val_loss: 0.0097\n",
      "Epoch 8/50\n",
      "9/9 [==============================] - 0s 7ms/step - loss: 0.0581 - val_loss: 0.0092\n",
      "Epoch 9/50\n",
      "9/9 [==============================] - 0s 7ms/step - loss: 0.0603 - val_loss: 0.0091\n",
      "Epoch 10/50\n",
      "9/9 [==============================] - 0s 7ms/step - loss: 0.0584 - val_loss: 0.0101\n",
      "Epoch 11/50\n",
      "9/9 [==============================] - 0s 7ms/step - loss: 0.0621 - val_loss: 0.0093\n",
      "Epoch 12/50\n",
      "9/9 [==============================] - 0s 7ms/step - loss: 0.0479 - val_loss: 0.0080\n",
      "Epoch 13/50\n",
      "9/9 [==============================] - 0s 9ms/step - loss: 0.0489 - val_loss: 0.0073\n",
      "Epoch 14/50\n",
      "9/9 [==============================] - 0s 8ms/step - loss: 0.0510 - val_loss: 0.0076\n",
      "Epoch 15/50\n",
      "9/9 [==============================] - 0s 7ms/step - loss: 0.0440 - val_loss: 0.0083\n",
      "Epoch 16/50\n",
      "9/9 [==============================] - 0s 7ms/step - loss: 0.0388 - val_loss: 0.0085\n",
      "Epoch 17/50\n",
      "9/9 [==============================] - 0s 7ms/step - loss: 0.0431 - val_loss: 0.0082\n",
      "Epoch 18/50\n",
      "9/9 [==============================] - 0s 7ms/step - loss: 0.0400 - val_loss: 0.0086\n",
      "Epoch 19/50\n",
      "9/9 [==============================] - 0s 7ms/step - loss: 0.0433 - val_loss: 0.0089\n",
      "Epoch 20/50\n",
      "9/9 [==============================] - 0s 7ms/step - loss: 0.0371 - val_loss: 0.0082\n",
      "Epoch 21/50\n",
      "9/9 [==============================] - 0s 8ms/step - loss: 0.0383 - val_loss: 0.0100\n",
      "Epoch 22/50\n",
      "9/9 [==============================] - 0s 7ms/step - loss: 0.0326 - val_loss: 0.0102\n",
      "Epoch 23/50\n",
      "9/9 [==============================] - 0s 7ms/step - loss: 0.0309 - val_loss: 0.0101\n",
      "Epoch 24/50\n",
      "9/9 [==============================] - 0s 7ms/step - loss: 0.0295 - val_loss: 0.0082\n",
      "Epoch 25/50\n",
      "9/9 [==============================] - 0s 7ms/step - loss: 0.0290 - val_loss: 0.0093\n",
      "Epoch 26/50\n",
      "9/9 [==============================] - 0s 9ms/step - loss: 0.0245 - val_loss: 0.0084\n",
      "Epoch 27/50\n",
      "9/9 [==============================] - 0s 8ms/step - loss: 0.0255 - val_loss: 0.0083\n",
      "Epoch 28/50\n",
      "9/9 [==============================] - 0s 7ms/step - loss: 0.0286 - val_loss: 0.0094\n",
      "Epoch 29/50\n",
      "9/9 [==============================] - 0s 7ms/step - loss: 0.0242 - val_loss: 0.0086\n",
      "Epoch 30/50\n",
      "9/9 [==============================] - 0s 7ms/step - loss: 0.0209 - val_loss: 0.0087\n",
      "Epoch 31/50\n",
      "9/9 [==============================] - 0s 7ms/step - loss: 0.0202 - val_loss: 0.0108\n",
      "Epoch 32/50\n",
      "9/9 [==============================] - 0s 8ms/step - loss: 0.0225 - val_loss: 0.0107\n",
      "Epoch 33/50\n",
      "9/9 [==============================] - 0s 8ms/step - loss: 0.0219 - val_loss: 0.0087\n",
      "Epoch 34/50\n",
      "9/9 [==============================] - 0s 7ms/step - loss: 0.0207 - val_loss: 0.0098\n",
      "Epoch 35/50\n",
      "9/9 [==============================] - 0s 7ms/step - loss: 0.0179 - val_loss: 0.0088\n",
      "Epoch 36/50\n",
      "9/9 [==============================] - 0s 8ms/step - loss: 0.0146 - val_loss: 0.0098\n",
      "Epoch 37/50\n",
      "9/9 [==============================] - 0s 8ms/step - loss: 0.0159 - val_loss: 0.0096\n",
      "Epoch 38/50\n",
      "9/9 [==============================] - 0s 7ms/step - loss: 0.0149 - val_loss: 0.0094\n",
      "Epoch 39/50\n",
      "9/9 [==============================] - 0s 7ms/step - loss: 0.0137 - val_loss: 0.0094\n",
      "Epoch 40/50\n",
      "9/9 [==============================] - 0s 7ms/step - loss: 0.0126 - val_loss: 0.0097\n",
      "Epoch 41/50\n",
      "9/9 [==============================] - 0s 8ms/step - loss: 0.0148 - val_loss: 0.0083\n",
      "Epoch 42/50\n",
      "9/9 [==============================] - 0s 7ms/step - loss: 0.0116 - val_loss: 0.0086\n",
      "Epoch 43/50\n",
      "9/9 [==============================] - 0s 7ms/step - loss: 0.0136 - val_loss: 0.0101\n",
      "Epoch 44/50\n",
      "9/9 [==============================] - 0s 7ms/step - loss: 0.0115 - val_loss: 0.0088\n",
      "Epoch 45/50\n",
      "9/9 [==============================] - 0s 8ms/step - loss: 0.0111 - val_loss: 0.0085\n",
      "Epoch 46/50\n",
      "9/9 [==============================] - 0s 8ms/step - loss: 0.0116 - val_loss: 0.0091\n",
      "Epoch 47/50\n",
      "9/9 [==============================] - 0s 8ms/step - loss: 0.0109 - val_loss: 0.0096\n",
      "Epoch 48/50\n",
      "9/9 [==============================] - 0s 7ms/step - loss: 0.0090 - val_loss: 0.0092\n",
      "Epoch 49/50\n",
      "9/9 [==============================] - 0s 9ms/step - loss: 0.0095 - val_loss: 0.0085\n",
      "Epoch 50/50\n",
      "9/9 [==============================] - 0s 7ms/step - loss: 0.0088 - val_loss: 0.0086\n"
     ]
    }
   ],
   "source": [
    "instance = CryptoPricePrediction()\n",
    "train, test, model, history = instance.prepare_and_train()"
   ]
  },
  {
   "cell_type": "code",
   "execution_count": 18,
   "id": "6b863740",
   "metadata": {},
   "outputs": [
    {
     "data": {
      "image/png": "[encoded data removed]",
      "text/plain": [
       "<Figure size 640x480 with 1 Axes>"
      ]
     },
     "metadata": {},
     "output_type": "display_data"
    }
   ],
   "source": [
    "instance.plot_loss(history)"
   ]
  },
  {
   "cell_type": "raw",
   "id": "1ffcade2",
   "metadata": {},
   "source": [
    "instance = CryptoPricePrediction()\n",
    "train, test, model, history = instance.prepare_and_train()\n",
    "X_test = instance.X_test\n",
    "y_test = instance.y_test\n",
    "targets = instance.hist\n",
    "instance.evaluate_model(X_test, y_test, targets)\n"
   ]
  },
  {
   "cell_type": "code",
   "execution_count": 19,
   "id": "809cf784",
   "metadata": {},
   "outputs": [
    {
     "data": {
      "image/png": "[encoded data removed]",
      "text/plain": [
       "<Figure size 640x480 with 1 Axes>"
      ]
     },
     "metadata": {},
     "output_type": "display_data"
    }
   ],
   "source": [
    "instance.line_plot(target_col='close', title=f'{instance.coin} / {instance.currency} Price')"
   ]
  },
  {
   "cell_type": "code",
   "execution_count": 20,
   "id": "ab7838b6",
   "metadata": {},
   "outputs": [],
   "source": [
    "# preds = instance.evaluate_model(instance.X_test, instance.y_test, instance.targets)\n",
    "# instance.plot_predictions(preds)\n"
   ]
  },
  {
   "cell_type": "code",
   "execution_count": null,
   "id": "d6f816ea",
   "metadata": {},
   "outputs": [],
   "source": []
  },
  {
   "cell_type": "code",
   "execution_count": null,
   "id": "bfff846e",
   "metadata": {},
   "outputs": [],
   "source": []
  }
 ],
 "metadata": {
  "kernelspec": {
   "display_name": "Python 3 (ipykernel)",
   "language": "python",
   "name": "python3"
  },
  "language_info": {
   "codemirror_mode": {
    "name": "ipython",
    "version": 3
   },
   "file_extension": ".py",
   "mimetype": "text/x-python",
   "name": "python",
   "nbconvert_exporter": "python",
   "pygments_lexer": "ipython3",
   "version": "3.9.13"
  }
 },
 "nbformat": 4,
 "nbformat_minor": 5
}
